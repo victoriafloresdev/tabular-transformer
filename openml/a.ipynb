{
 "cells": [
  {
   "cell_type": "code",
   "execution_count": 7,
   "id": "d44c2220",
   "metadata": {},
   "outputs": [
    {
     "name": "stdout",
     "output_type": "stream",
     "text": [
      "Lendo /scratch/pedro.bacelar/TabularTransformers/Datasets/openml/dataset_54_vehicle.arff ...\n",
      "  → Gravado em /scratch/pedro.bacelar/TabularTransformers/Datasets/openml/dataset_54_vehicle.csv\n",
      "Lendo /scratch/pedro.bacelar/TabularTransformers/Datasets/openml/dataset_29_credit-a.arff ...\n",
      "  → Gravado em /scratch/pedro.bacelar/TabularTransformers/Datasets/openml/dataset_29_credit-a.csv\n",
      "Lendo /scratch/pedro.bacelar/TabularTransformers/Datasets/openml/electricity-normalized.arff ...\n",
      "  → Gravado em /scratch/pedro.bacelar/TabularTransformers/Datasets/openml/electricity-normalized.csv\n",
      "Lendo /scratch/pedro.bacelar/TabularTransformers/Datasets/openml/phpDYCOet.arff ...\n",
      "  → Gravado em /scratch/pedro.bacelar/TabularTransformers/Datasets/openml/phpDYCOet.csv\n",
      "Lendo /scratch/pedro.bacelar/TabularTransformers/Datasets/openml/dataset_32_pendigits.arff ...\n",
      "  → Gravado em /scratch/pedro.bacelar/TabularTransformers/Datasets/openml/dataset_32_pendigits.csv\n",
      "Lendo /scratch/pedro.bacelar/TabularTransformers/Datasets/openml/phpGUrE90.arff ...\n",
      "  → Gravado em /scratch/pedro.bacelar/TabularTransformers/Datasets/openml/phpGUrE90.csv\n",
      "Lendo /scratch/pedro.bacelar/TabularTransformers/Datasets/openml/dataset_31_credit-g.arff ...\n",
      "  → Gravado em /scratch/pedro.bacelar/TabularTransformers/Datasets/openml/dataset_31_credit-g.csv\n",
      "Lendo /scratch/pedro.bacelar/TabularTransformers/Datasets/openml/dataset_6_letter.arff ...\n",
      "  → Gravado em /scratch/pedro.bacelar/TabularTransformers/Datasets/openml/dataset_6_letter.csv\n",
      "Lendo /scratch/pedro.bacelar/TabularTransformers/Datasets/openml/dataset_3_kr-vs-kp.arff ...\n",
      "  → Gravado em /scratch/pedro.bacelar/TabularTransformers/Datasets/openml/dataset_3_kr-vs-kp.csv\n",
      "Lendo /scratch/pedro.bacelar/TabularTransformers/Datasets/openml/dataset_44_spambase.arff ...\n",
      "  → Gravado em /scratch/pedro.bacelar/TabularTransformers/Datasets/openml/dataset_44_spambase.csv\n"
     ]
    }
   ],
   "source": [
    "#!/usr/bin/env python3\n",
    "\"\"\"\n",
    "convert_arff_to_csv_simple.py\n",
    "\n",
    "Lê todos os arquivos .arff em uma pasta (input_dir) e gera\n",
    "um .csv com o mesmo nome em outra pasta (output_dir).\n",
    "\"\"\"\n",
    "\n",
    "import os\n",
    "import pandas as pd\n",
    "from scipy.io import arff\n",
    "import os\n",
    "import pandas as pd\n",
    "import arff as liac_arff \n",
    "# ← Altere estes caminhos para os diretórios desejados:\n",
    "input_dir = '/scratch/pedro.bacelar/TabularTransformers/Datasets/openml'\n",
    "output_dir = '/scratch/pedro.bacelar/TabularTransformers/Datasets/openml'\n",
    "\n",
    "def arff_para_csv_liac(input_dir: str, output_dir: str):\n",
    "    os.makedirs(output_dir, exist_ok=True)\n",
    "\n",
    "    for fname in os.listdir(input_dir):\n",
    "        if not fname.lower().endswith('.arff'):\n",
    "            continue\n",
    "\n",
    "        arff_path = os.path.join(input_dir, fname)\n",
    "        print(f\"Lendo {arff_path} ...\")\n",
    "\n",
    "        # Carrega com liac-arff\n",
    "        with open(arff_path, 'r', encoding='utf-8') as f:\n",
    "            arff_obj = liac_arff.load(f)\n",
    "\n",
    "        # Atributos e dados\n",
    "        attrs = [att[0] for att in arff_obj['attributes']]\n",
    "        data = arff_obj['data']\n",
    "\n",
    "        # Monta DataFrame\n",
    "        df = pd.DataFrame(data, columns=attrs)\n",
    "\n",
    "        # Decodifica bytes em colunas object, se houver\n",
    "        for col in df.columns:\n",
    "            if df[col].dtype == object:\n",
    "                sample = df[col].dropna().iloc[:10].tolist()\n",
    "                if any(isinstance(x, (bytes, bytearray)) for x in sample):\n",
    "                    df[col] = df[col].map(\n",
    "                        lambda x: x.decode('utf-8') if isinstance(x, (bytes, bytearray)) else x\n",
    "                    )\n",
    "\n",
    "        csv_name = os.path.splitext(fname)[0] + '.csv'\n",
    "        csv_path = os.path.join(output_dir, csv_name)\n",
    "        df.to_csv(csv_path, index=False)\n",
    "        print(f\"  → Gravado em {csv_path}\")\n",
    "\n",
    "if __name__ == '__main__':\n",
    "    arff_para_csv_liac(input_dir, output_dir)"
   ]
  }
 ],
 "metadata": {
  "kernelspec": {
   "display_name": "hiv",
   "language": "python",
   "name": "python3"
  },
  "language_info": {
   "codemirror_mode": {
    "name": "ipython",
    "version": 3
   },
   "file_extension": ".py",
   "mimetype": "text/x-python",
   "name": "python",
   "nbconvert_exporter": "python",
   "pygments_lexer": "ipython3",
   "version": "3.12.2"
  }
 },
 "nbformat": 4,
 "nbformat_minor": 5
}
