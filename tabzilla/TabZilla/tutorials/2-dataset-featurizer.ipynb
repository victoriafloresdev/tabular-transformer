{
 "cells": [
  {
   "attachments": {},
   "cell_type": "markdown",
   "metadata": {},
   "source": [
    "# Tutorial 2: TabZilla Dataset Featurizer\n",
    "\n",
    "This notebook demonstrates how to use TabZilla to calculate metafeatures of tabular datasets (\"featurize\" them) using `pymfe`. \n",
    "\n",
    "### Rquirements\n",
    "\n",
    "1. Please complete [Tutorial 1](TabZilla/tutorials/1-preprocess-datasets.ipynb), which shows how to download and pre-process datasets using TabZilla and `openml`. You will need to have at least one dataset pre-processed to complete this tutorial.\n",
    "\n",
    "2. You need to have a python environment with the following python packages. We recommend following instructions on our [README](README.md) to prepare a virtual environment with `venv`. Required packages:\n",
    "\n",
    "- [`openml`](https://pypi.org/project/openml/)\n",
    "- [`argparse`](https://pypi.org/project/argparse/)\n",
    "- [`pandas`](https://pypi.org/project/pandas/)\n",
    "- [`scikit-learn`](https://pypi.org/project/scikit-learn/)\n",
    "- [`pymfe`](https://pypi.org/project/pymfe/)\n",
    "\n",
    "3. Like all of our code, this notebook must be run from the TabZilla directory. Make sure to run the following cell to `cd` one level up, by running the following cell:"
   ]
  },
  {
   "cell_type": "code",
   "execution_count": 1,
   "metadata": {},
   "outputs": [
    {
     "name": "stdout",
     "output_type": "stream",
     "text": [
      "/Users/duncan/research/active_projects/tabzilla/TabZilla\n"
     ]
    }
   ],
   "source": [
    "%cd ../"
   ]
  },
  {
   "cell_type": "markdown",
   "metadata": {},
   "source": [
    "## Featurizing a dataset"
   ]
  },
  {
   "attachments": {},
   "cell_type": "markdown",
   "metadata": {},
   "source": [
    "## Read the pre-processed dataset\n",
    "\n",
    "First, read the dataset you want to featurize. We will use the audiology dataset that was pre-processed in Tutorial 1, which was written to `TabZilla/datasets/openml__audiology__7`:"
   ]
  },
  {
   "cell_type": "code",
   "execution_count": 2,
   "metadata": {},
   "outputs": [],
   "source": [
    "from tabzilla_datasets import TabularDataset\n",
    "from pathlib import Path\n",
    "\n",
    "dataset = TabularDataset.read(Path(\"./datasets/openml__audiology__7\"))"
   ]
  },
  {
   "cell_type": "markdown",
   "metadata": {},
   "source": [
    "### Featurize the dataset\n",
    "\n",
    "We use `pymfe` to calculate dataset metafeatures. Please see the [`pymfe` website](https://pymfe.readthedocs.io/en/latest/auto_pages/meta_features_description.html) for a description of these features. \n",
    "\n",
    "`pymfe` throws a lot of warnings, but we will ignore these when we featurize the dataset. Lots of these warnings result in NaN metafeatures, which we can ignore."
   ]
  },
  {
   "cell_type": "code",
   "execution_count": 3,
   "metadata": {},
   "outputs": [
    {
     "name": "stderr",
     "output_type": "stream",
     "text": [
      "/Users/duncan/research/python_venv/tabzilla/lib/python3.10/site-packages/tqdm/auto.py:21: TqdmWarning: IProgress not found. Please update jupyter and ipywidgets. See https://ipywidgets.readthedocs.io/en/stable/user_install.html\n",
      "  from .autonotebook import tqdm as notebook_tqdm\n"
     ]
    },
    {
     "name": "stdout",
     "output_type": "stream",
     "text": [
      "Processing...\n"
     ]
    },
    {
     "name": "stderr",
     "output_type": "stream",
     "text": [
      "10it [00:17,  1.76s/it]\n"
     ]
    }
   ],
   "source": [
    "from tabzilla_featurizer import featurize_dataset\n",
    "import warnings \n",
    "\n",
    "with warnings.catch_warnings():\n",
    "    warnings.simplefilter(\"ignore\")\n",
    "    dataset_metafeatures = featurize_dataset(Path(\"./datasets/openml__audiology__7\"))"
   ]
  },
  {
   "cell_type": "markdown",
   "metadata": {},
   "source": [
    "### Review metafeatures\n",
    "\n",
    "There is one set of metafeatures created for each of the 10 folds defined during pre-processing. The features for each fold are stored in a dictionary: each key-value pair in the dictionary is a metafeature of the dataset, and the key \"dataset_name\" indicates the name (and split) of the dataset.\n",
    "\n",
    "Please see the pymfe [website](https://pymfe.readthedocs.io/en/latest/auto_pages/meta_features_description.html) and [github page](https://github.com/ealcobaca/pymfe) for a description of each metafeature."
   ]
  },
  {
   "cell_type": "code",
   "execution_count": 5,
   "metadata": {},
   "outputs": [
    {
     "data": {
      "text/plain": [
       "10"
      ]
     },
     "execution_count": 5,
     "metadata": {},
     "output_type": "execute_result"
    }
   ],
   "source": [
    "# there should be 10 items in dataset_metafeatures, one for each dataset split:\n",
    "len(dataset_metafeatures)"
   ]
  },
  {
   "cell_type": "code",
   "execution_count": 6,
   "metadata": {},
   "outputs": [
    {
     "data": {
      "text/plain": [
       "'openml__audiology__7__fold_3'"
      ]
     },
     "execution_count": 6,
     "metadata": {},
     "output_type": "execute_result"
    }
   ],
   "source": [
    "# the dataset name and split is at key \"dataset_name\":\n",
    "dataset_metafeatures[3][\"dataset_name\"]"
   ]
  },
  {
   "cell_type": "code",
   "execution_count": 7,
   "metadata": {},
   "outputs": [
    {
     "data": {
      "text/plain": [
       "['dataset_name',\n",
       " 'f__pymfe.landmarking.best_node.count',\n",
       " 'f__pymfe.landmarking.best_node.count.relative',\n",
       " 'f__pymfe.landmarking.best_node.histogram.0',\n",
       " 'f__pymfe.landmarking.best_node.histogram.0.relative']"
      ]
     },
     "execution_count": 7,
     "metadata": {},
     "output_type": "execute_result"
    }
   ],
   "source": [
    "# all other keys contain the names of the metafeatures:\n",
    "list(dataset_metafeatures[3].keys())[:5]"
   ]
  },
  {
   "cell_type": "markdown",
   "metadata": {},
   "source": [
    "# Creating a CSV of metafeatures for all datasets\n",
    "\n",
    "Once you have pre-processed several datasets, so they are written to separate folders in `TabZilla/datasets`, you can use this script to featurize *all* datasets in this folder, and write their metafeatures to a single CSV. This script first searches for pre-processed datasets, and then writes a CSV with their metafeatures in `TabZilla/metafeatures.csv`:\n",
    "\n",
    "``````\n",
    "python -m tabzilla_featurizer\n",
    "``````"
   ]
  },
  {
   "cell_type": "code",
   "execution_count": 11,
   "metadata": {},
   "outputs": [
    {
     "data": {
      "text/html": [
       "<div>\n",
       "<style scoped>\n",
       "    .dataframe tbody tr th:only-of-type {\n",
       "        vertical-align: middle;\n",
       "    }\n",
       "\n",
       "    .dataframe tbody tr th {\n",
       "        vertical-align: top;\n",
       "    }\n",
       "\n",
       "    .dataframe thead th {\n",
       "        text-align: right;\n",
       "    }\n",
       "</style>\n",
       "<table border=\"1\" class=\"dataframe\">\n",
       "  <thead>\n",
       "    <tr style=\"text-align: right;\">\n",
       "      <th></th>\n",
       "      <th>dataset_name</th>\n",
       "      <th>f__pymfe.landmarking.best_node.count</th>\n",
       "      <th>f__pymfe.landmarking.best_node.count.relative</th>\n",
       "      <th>f__pymfe.landmarking.best_node.histogram.0</th>\n",
       "      <th>f__pymfe.landmarking.best_node.histogram.0.relative</th>\n",
       "      <th>f__pymfe.landmarking.best_node.histogram.1</th>\n",
       "      <th>f__pymfe.landmarking.best_node.histogram.1.relative</th>\n",
       "      <th>f__pymfe.landmarking.best_node.histogram.2</th>\n",
       "      <th>f__pymfe.landmarking.best_node.histogram.2.relative</th>\n",
       "      <th>f__pymfe.landmarking.best_node.histogram.3</th>\n",
       "      <th>...</th>\n",
       "      <th>f__pymfe.relative.worst_node.quantiles.4</th>\n",
       "      <th>f__pymfe.relative.worst_node.quantiles.4.relative</th>\n",
       "      <th>f__pymfe.relative.worst_node.range</th>\n",
       "      <th>f__pymfe.relative.worst_node.range.relative</th>\n",
       "      <th>f__pymfe.relative.worst_node.sd</th>\n",
       "      <th>f__pymfe.relative.worst_node.sd.relative</th>\n",
       "      <th>f__pymfe.relative.worst_node.skewness</th>\n",
       "      <th>f__pymfe.relative.worst_node.skewness.relative</th>\n",
       "      <th>f__pymfe.statistical.iq_range</th>\n",
       "      <th>f__pymfe.statistical.t_mean</th>\n",
       "    </tr>\n",
       "  </thead>\n",
       "  <tbody>\n",
       "    <tr>\n",
       "      <th>0</th>\n",
       "      <td>openml__cjs__14967__fold_0</td>\n",
       "      <td>10</td>\n",
       "      <td>4.0</td>\n",
       "      <td>0.3</td>\n",
       "      <td>6.5</td>\n",
       "      <td>0.0</td>\n",
       "      <td>2.5</td>\n",
       "      <td>0.2</td>\n",
       "      <td>6.5</td>\n",
       "      <td>0.2</td>\n",
       "      <td>...</td>\n",
       "      <td>0.166667</td>\n",
       "      <td>1.0</td>\n",
       "      <td>0.000000</td>\n",
       "      <td>1.0</td>\n",
       "      <td>2.925695e-17</td>\n",
       "      <td>1.0</td>\n",
       "      <td>NaN</td>\n",
       "      <td>7.0</td>\n",
       "      <td>NaN</td>\n",
       "      <td>NaN</td>\n",
       "    </tr>\n",
       "    <tr>\n",
       "      <th>1</th>\n",
       "      <td>openml__cjs__14967__fold_1</td>\n",
       "      <td>10</td>\n",
       "      <td>4.0</td>\n",
       "      <td>0.1</td>\n",
       "      <td>4.0</td>\n",
       "      <td>0.0</td>\n",
       "      <td>3.0</td>\n",
       "      <td>0.0</td>\n",
       "      <td>2.5</td>\n",
       "      <td>0.2</td>\n",
       "      <td>...</td>\n",
       "      <td>0.171573</td>\n",
       "      <td>1.0</td>\n",
       "      <td>0.007937</td>\n",
       "      <td>1.0</td>\n",
       "      <td>1.912000e-03</td>\n",
       "      <td>1.0</td>\n",
       "      <td>1.025611</td>\n",
       "      <td>7.0</td>\n",
       "      <td>NaN</td>\n",
       "      <td>NaN</td>\n",
       "    </tr>\n",
       "    <tr>\n",
       "      <th>2</th>\n",
       "      <td>openml__cjs__14967__fold_2</td>\n",
       "      <td>10</td>\n",
       "      <td>4.0</td>\n",
       "      <td>0.3</td>\n",
       "      <td>7.0</td>\n",
       "      <td>0.1</td>\n",
       "      <td>5.5</td>\n",
       "      <td>0.1</td>\n",
       "      <td>4.5</td>\n",
       "      <td>0.0</td>\n",
       "      <td>...</td>\n",
       "      <td>0.166667</td>\n",
       "      <td>1.0</td>\n",
       "      <td>0.000000</td>\n",
       "      <td>1.0</td>\n",
       "      <td>2.925695e-17</td>\n",
       "      <td>1.0</td>\n",
       "      <td>NaN</td>\n",
       "      <td>7.0</td>\n",
       "      <td>NaN</td>\n",
       "      <td>NaN</td>\n",
       "    </tr>\n",
       "    <tr>\n",
       "      <th>3</th>\n",
       "      <td>openml__cjs__14967__fold_3</td>\n",
       "      <td>10</td>\n",
       "      <td>4.0</td>\n",
       "      <td>0.1</td>\n",
       "      <td>3.5</td>\n",
       "      <td>0.1</td>\n",
       "      <td>4.5</td>\n",
       "      <td>0.1</td>\n",
       "      <td>6.0</td>\n",
       "      <td>0.3</td>\n",
       "      <td>...</td>\n",
       "      <td>0.166667</td>\n",
       "      <td>1.0</td>\n",
       "      <td>0.000000</td>\n",
       "      <td>1.0</td>\n",
       "      <td>2.925695e-17</td>\n",
       "      <td>1.0</td>\n",
       "      <td>NaN</td>\n",
       "      <td>7.0</td>\n",
       "      <td>NaN</td>\n",
       "      <td>NaN</td>\n",
       "    </tr>\n",
       "    <tr>\n",
       "      <th>4</th>\n",
       "      <td>openml__cjs__14967__fold_4</td>\n",
       "      <td>10</td>\n",
       "      <td>4.0</td>\n",
       "      <td>0.1</td>\n",
       "      <td>3.5</td>\n",
       "      <td>0.1</td>\n",
       "      <td>6.5</td>\n",
       "      <td>0.1</td>\n",
       "      <td>5.5</td>\n",
       "      <td>0.4</td>\n",
       "      <td>...</td>\n",
       "      <td>0.171970</td>\n",
       "      <td>1.0</td>\n",
       "      <td>0.010497</td>\n",
       "      <td>1.0</td>\n",
       "      <td>2.801491e-03</td>\n",
       "      <td>1.0</td>\n",
       "      <td>-0.045710</td>\n",
       "      <td>5.0</td>\n",
       "      <td>NaN</td>\n",
       "      <td>NaN</td>\n",
       "    </tr>\n",
       "  </tbody>\n",
       "</table>\n",
       "<p>5 rows × 1605 columns</p>\n",
       "</div>"
      ],
      "text/plain": [
       "                 dataset_name  f__pymfe.landmarking.best_node.count  \\\n",
       "0  openml__cjs__14967__fold_0                                    10   \n",
       "1  openml__cjs__14967__fold_1                                    10   \n",
       "2  openml__cjs__14967__fold_2                                    10   \n",
       "3  openml__cjs__14967__fold_3                                    10   \n",
       "4  openml__cjs__14967__fold_4                                    10   \n",
       "\n",
       "   f__pymfe.landmarking.best_node.count.relative  \\\n",
       "0                                            4.0   \n",
       "1                                            4.0   \n",
       "2                                            4.0   \n",
       "3                                            4.0   \n",
       "4                                            4.0   \n",
       "\n",
       "   f__pymfe.landmarking.best_node.histogram.0  \\\n",
       "0                                         0.3   \n",
       "1                                         0.1   \n",
       "2                                         0.3   \n",
       "3                                         0.1   \n",
       "4                                         0.1   \n",
       "\n",
       "   f__pymfe.landmarking.best_node.histogram.0.relative  \\\n",
       "0                                                6.5     \n",
       "1                                                4.0     \n",
       "2                                                7.0     \n",
       "3                                                3.5     \n",
       "4                                                3.5     \n",
       "\n",
       "   f__pymfe.landmarking.best_node.histogram.1  \\\n",
       "0                                         0.0   \n",
       "1                                         0.0   \n",
       "2                                         0.1   \n",
       "3                                         0.1   \n",
       "4                                         0.1   \n",
       "\n",
       "   f__pymfe.landmarking.best_node.histogram.1.relative  \\\n",
       "0                                                2.5     \n",
       "1                                                3.0     \n",
       "2                                                5.5     \n",
       "3                                                4.5     \n",
       "4                                                6.5     \n",
       "\n",
       "   f__pymfe.landmarking.best_node.histogram.2  \\\n",
       "0                                         0.2   \n",
       "1                                         0.0   \n",
       "2                                         0.1   \n",
       "3                                         0.1   \n",
       "4                                         0.1   \n",
       "\n",
       "   f__pymfe.landmarking.best_node.histogram.2.relative  \\\n",
       "0                                                6.5     \n",
       "1                                                2.5     \n",
       "2                                                4.5     \n",
       "3                                                6.0     \n",
       "4                                                5.5     \n",
       "\n",
       "   f__pymfe.landmarking.best_node.histogram.3  ...  \\\n",
       "0                                         0.2  ...   \n",
       "1                                         0.2  ...   \n",
       "2                                         0.0  ...   \n",
       "3                                         0.3  ...   \n",
       "4                                         0.4  ...   \n",
       "\n",
       "   f__pymfe.relative.worst_node.quantiles.4  \\\n",
       "0                                  0.166667   \n",
       "1                                  0.171573   \n",
       "2                                  0.166667   \n",
       "3                                  0.166667   \n",
       "4                                  0.171970   \n",
       "\n",
       "   f__pymfe.relative.worst_node.quantiles.4.relative  \\\n",
       "0                                                1.0   \n",
       "1                                                1.0   \n",
       "2                                                1.0   \n",
       "3                                                1.0   \n",
       "4                                                1.0   \n",
       "\n",
       "   f__pymfe.relative.worst_node.range  \\\n",
       "0                            0.000000   \n",
       "1                            0.007937   \n",
       "2                            0.000000   \n",
       "3                            0.000000   \n",
       "4                            0.010497   \n",
       "\n",
       "   f__pymfe.relative.worst_node.range.relative  \\\n",
       "0                                          1.0   \n",
       "1                                          1.0   \n",
       "2                                          1.0   \n",
       "3                                          1.0   \n",
       "4                                          1.0   \n",
       "\n",
       "   f__pymfe.relative.worst_node.sd  f__pymfe.relative.worst_node.sd.relative  \\\n",
       "0                     2.925695e-17                                       1.0   \n",
       "1                     1.912000e-03                                       1.0   \n",
       "2                     2.925695e-17                                       1.0   \n",
       "3                     2.925695e-17                                       1.0   \n",
       "4                     2.801491e-03                                       1.0   \n",
       "\n",
       "   f__pymfe.relative.worst_node.skewness  \\\n",
       "0                                    NaN   \n",
       "1                               1.025611   \n",
       "2                                    NaN   \n",
       "3                                    NaN   \n",
       "4                              -0.045710   \n",
       "\n",
       "   f__pymfe.relative.worst_node.skewness.relative  \\\n",
       "0                                             7.0   \n",
       "1                                             7.0   \n",
       "2                                             7.0   \n",
       "3                                             7.0   \n",
       "4                                             5.0   \n",
       "\n",
       "   f__pymfe.statistical.iq_range  f__pymfe.statistical.t_mean  \n",
       "0                            NaN                          NaN  \n",
       "1                            NaN                          NaN  \n",
       "2                            NaN                          NaN  \n",
       "3                            NaN                          NaN  \n",
       "4                            NaN                          NaN  \n",
       "\n",
       "[5 rows x 1605 columns]"
      ]
     },
     "execution_count": 11,
     "metadata": {},
     "output_type": "execute_result"
    }
   ],
   "source": [
    "# you can read the metafeatures into a pandas dataframe like this:\n",
    "import pandas as pd\n",
    "metafeatures = pd.read_csv(\"./metafeatures.csv\") \n",
    "\n",
    "metafeatures.head()"
   ]
  }
 ],
 "metadata": {
  "kernelspec": {
   "display_name": "tabzilla",
   "language": "python",
   "name": "tabzilla"
  },
  "language_info": {
   "codemirror_mode": {
    "name": "ipython",
    "version": 3
   },
   "file_extension": ".py",
   "mimetype": "text/x-python",
   "name": "python",
   "nbconvert_exporter": "python",
   "pygments_lexer": "ipython3",
   "version": "3.10.12"
  },
  "orig_nbformat": 4
 },
 "nbformat": 4,
 "nbformat_minor": 2
}
