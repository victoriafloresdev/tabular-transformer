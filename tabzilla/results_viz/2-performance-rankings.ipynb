{
 "cells": [
  {
   "attachments": {},
   "cell_type": "markdown",
   "metadata": {},
   "source": [
    "# Calcualte performance rankings from cleaned results"
   ]
  },
  {
   "cell_type": "code",
   "execution_count": 1,
   "metadata": {},
   "outputs": [],
   "source": [
    "# read cleaned results\n",
    "import pandas as pd\n",
    "from pathlib import Path\n",
    "agg_df_with_default = pd.read_csv(Path(\"./cleaned_results/tuned_aggregated_results_with_default.csv\"))\n",
    "agg_df = pd.read_csv(Path(\"./cleaned_results/tuned_aggregated_results.csv\"))\n",
    "\n",
    "fold_df_with_default = pd.read_csv(Path(\"./cleaned_results/tuned_fold_results_with_default.csv\"))\n",
    "fold_df = pd.read_csv(Path(\"./cleaned_results/tuned_fold_results.csv\"))\n",
    "\n",
    "# make sure output folder exists\n",
    "output_folder = Path(\"./performance_rankings\")\n",
    "output_folder.mkdir(exist_ok=True)  "
   ]
  },
  {
   "cell_type": "code",
   "execution_count": 2,
   "metadata": {},
   "outputs": [],
   "source": [
    "import numpy as np\n",
    "\n",
    "def get_rank_table(df, metric):\n",
    "    \"\"\"\n",
    "    NOTE: the df needs to have the following columns defined:\n",
    "    - {metric}_rank_mean\n",
    "    - normalized_{metric}__test_mean\n",
    "    \"\"\"\n",
    "\n",
    "    overall_ranks = df.groupby(\"alg_name\").agg(\n",
    "        {\n",
    "            f\"{metric}_rank_mean\": [\"min\", \"max\", \"mean\", \"median\", \"count\"],\n",
    "            f\"normalized_{metric}__test_mean\": [\"mean\", \"median\"],\n",
    "            f\"normalized_{metric}__test_std\": [\"mean\", \"median\"],\n",
    "            f\"train_per_1000_inst_mean_{metric}\": [\"mean\", \"median\"],        \n",
    "        }\n",
    "    ).reset_index().sort_values([(f\"{metric}_rank_mean\", \"mean\")])\n",
    "\n",
    "    # format min/max rank columns to be ints\n",
    "\n",
    "    # overall_ranks.loc[:, \"count\"] = overall_ranks.loc[:, (f\"{metric}_rank_mean\", \"count\")].astype(int)\n",
    "    overall_ranks.drop(columns=(f\"{metric}_rank_mean\", \"count\"), inplace=True)\n",
    "\n",
    "    # overall_ranks.loc[:, \"alg_name\"] = overall_ranks.loc[:, \"alg_name\"].apply(lambda x: \"\\rot{\" + x + \"}\")\n",
    "    overall_ranks.loc[:, (f\"{metric}_rank_mean\", \"min\")] = overall_ranks.loc[:, (f\"{metric}_rank_mean\", \"min\")].apply(lambda x: \"{:d}\".format(int(x)))\n",
    "    overall_ranks.loc[:, (f\"{metric}_rank_mean\", \"max\")] = overall_ranks.loc[:, (f\"{metric}_rank_mean\", \"max\")].apply(lambda x: \"{:d}\".format(int(x)))\n",
    "\n",
    "    # mean/median mean-rank\n",
    "    overall_ranks.loc[:, (f\"{metric}_rank_mean\", \"mean\")] = overall_ranks.loc[:, (f\"{metric}_rank_mean\", \"mean\")].apply(lambda x: \"{:.2f}\".format(x))\n",
    "    overall_ranks.loc[:, (f\"{metric}_rank_mean\", \"median\")] = overall_ranks.loc[:, (f\"{metric}_rank_mean\", \"median\")].apply(lambda x: \"{:d}\".format(int(x)) if int(x) == x else \"{:.1f}\".format(x))\n",
    "    \n",
    "    # normalized metric - mean and std over folds\n",
    "    overall_ranks.loc[:, (f\"normalized_{metric}__test_mean\", \"mean\")] = overall_ranks.loc[:,(f\"normalized_{metric}__test_mean\", \"mean\")].apply(lambda x: \"{:.2f}\".format(x))\n",
    "    overall_ranks.loc[:, (f\"normalized_{metric}__test_mean\", \"median\")] = overall_ranks.loc[:,(f\"normalized_{metric}__test_mean\", \"median\")].apply(lambda x: \"{:.2f}\".format(x))\n",
    "    overall_ranks.loc[:, (f\"normalized_{metric}__test_std\", \"mean\")] = overall_ranks.loc[:,(f\"normalized_{metric}__test_std\", \"mean\")].apply(lambda x: \"{:.2f}\".format(x))\n",
    "    overall_ranks.loc[:, (f\"normalized_{metric}__test_std\", \"median\")] = overall_ranks.loc[:,(f\"normalized_{metric}__test_std\", \"median\")].apply(lambda x: \"{:.2f}\".format(x))\n",
    "\n",
    "\n",
    "    # normalized runtime\n",
    "    overall_ranks.loc[:, (f\"train_per_1000_inst_mean_{metric}\", \"mean\")] = overall_ranks.loc[:,(f\"train_per_1000_inst_mean_{metric}\", \"mean\")].apply(lambda x: \"{:.2f}\".format(x))\n",
    "    overall_ranks.loc[:, (f\"train_per_1000_inst_mean_{metric}\", \"median\")] = overall_ranks.loc[:,(f\"train_per_1000_inst_mean_{metric}\", \"median\")].apply(lambda x: \"{:.2f}\".format(x))\n",
    "   \n",
    "\n",
    "\n",
    "    final_table = overall_ranks.set_index(\"alg_name\")\n",
    "\n",
    "    return final_table\n"
   ]
  },
  {
   "attachments": {},
   "cell_type": "markdown",
   "metadata": {},
   "source": [
    "### Save rank tables to file"
   ]
  },
  {
   "cell_type": "code",
   "execution_count": 4,
   "metadata": {},
   "outputs": [],
   "source": [
    "# save rank tables to csv and latex\n",
    "from analysis_utils import ALG_DISPLAY_NAMES\n",
    "\n",
    "metric_list = [\n",
    "    \"Accuracy\",\n",
    "    \"F1\",\n",
    "    \"Log Loss\",\n",
    "    \"AUC\",\n",
    "]\n",
    "\n",
    "# best, worst, and average performance for each alg, over all datasets\n",
    "for metric in metric_list:\n",
    "\n",
    "    agg_df_with_default\n",
    "\n",
    "    # first with default hparams as its own alg\n",
    "    final_table = get_rank_table(agg_df_with_default, metric)\n",
    "\n",
    "    # save to csv, latex\n",
    "    final_table.to_csv(output_folder / f\"{metric}_rank_with_default.csv\", index=True)\n",
    "    final_table.to_latex(output_folder / f\"{metric}_rank_with_default.tex\", index=True, escape=False)\n",
    "\n",
    "    # now without default hparams as its own alg\n",
    "    final_table = get_rank_table(agg_df, metric)\n",
    "\n",
    "    # save to csv, latex\n",
    "    final_table.to_csv(output_folder / f\"{metric}_rank.csv\", index=True)\n",
    "    final_table.to_latex(output_folder / f\"{metric}_rank.tex\", index=True, escape=False)"
   ]
  },
  {
   "cell_type": "code",
   "execution_count": null,
   "metadata": {},
   "outputs": [],
   "source": []
  },
  {
   "cell_type": "code",
   "execution_count": null,
   "metadata": {},
   "outputs": [],
   "source": []
  }
 ],
 "metadata": {
  "kernelspec": {
   "display_name": "sklearn",
   "language": "python",
   "name": "python3"
  },
  "language_info": {
   "codemirror_mode": {
    "name": "ipython",
    "version": 3
   },
   "file_extension": ".py",
   "mimetype": "text/x-python",
   "name": "python",
   "nbconvert_exporter": "python",
   "pygments_lexer": "ipython3",
   "version": "3.10.12"
  },
  "orig_nbformat": 4,
  "vscode": {
   "interpreter": {
    "hash": "adab44bf74dd2bf4087e9ac127b18a28101fa8e43c6e13ec882ef5a36e6f0284"
   }
  }
 },
 "nbformat": 4,
 "nbformat_minor": 2
}
